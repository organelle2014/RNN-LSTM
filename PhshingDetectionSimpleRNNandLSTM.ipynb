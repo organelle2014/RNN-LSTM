{
 "cells": [
  {
   "cell_type": "code",
   "execution_count": 87,
   "metadata": {},
   "outputs": [],
   "source": [
    "import tkinter as tk\n",
    "from tkinter import filedialog\n",
    "import pandas as pd\n",
    "import numpy as np\n",
    "import matplotlib.pyplot as plt"
   ]
  },
  {
   "cell_type": "code",
   "execution_count": 88,
   "metadata": {},
   "outputs": [],
   "source": [
    "from keras.models import Sequential\n",
    "from keras.layers import Dense, Embedding, LSTM, SimpleRNN, Bidirectional\n",
    "from keras.preprocessing.text import Tokenizer\n",
    "from keras.preprocessing.sequence import pad_sequences"
   ]
  },
  {
   "cell_type": "code",
   "execution_count": 89,
   "metadata": {},
   "outputs": [],
   "source": [
    "# load the data and perform data cleaning\n",
    "df = pd.read_csv(\"data/spam.csv\")\n",
    "# remove any rows with null values\n",
    "df.dropna(inplace=True)\n",
    "# remove any duplicate rows\n",
    "df.drop_duplicates(inplace=True)\n",
    "# convert all text to lowercase\n",
    "df['Message'] = df['Message'].str.lower()\n",
    "# remove any leading or trailing whitespaces\n",
    "df['Message'] = df['Message'].str.strip()"
   ]
  },
  {
   "cell_type": "code",
   "execution_count": 90,
   "metadata": {},
   "outputs": [
    {
     "name": "stdout",
     "output_type": "stream",
     "text": [
      "[[   0    0    0 ...   56 4005  137]\n",
      " [   0    0    0 ...  435    6 1766]\n",
      " [   0    0    0 ...  707  437 4006]\n",
      " ...\n",
      " [   0    0    0 ...  100  240 9003]\n",
      " [   0    0    0 ...  192   12   53]\n",
      " [   0    0    0 ...    2   63  284]]\n"
     ]
    }
   ],
   "source": [
    "# preprocess the text data\n",
    "tokenizer = Tokenizer()\n",
    "tokenizer.fit_on_texts(df['Message'])\n",
    "sequences = tokenizer.texts_to_sequences(df['Message'])\n",
    "word_index = tokenizer.word_index\n",
    "max_sequence_length = max([len(seq) for seq in sequences])\n",
    "data = pad_sequences(sequences, maxlen=max_sequence_length)\n",
    "print (data)"
   ]
  },
  {
   "cell_type": "code",
   "execution_count": 91,
   "metadata": {},
   "outputs": [],
   "source": [
    "# create labels\n",
    "labels = np.where(df['Category']=='spam', 1, 0)"
   ]
  },
  {
   "cell_type": "code",
   "execution_count": 92,
   "metadata": {},
   "outputs": [],
   "source": [
    "# split the data into training and validation sets\n",
    "validation_split = 0.2\n",
    "indices = np.arange(data.shape[0])\n",
    "np.random.shuffle(indices)\n",
    "data = data[indices]\n",
    "labels = labels[indices]\n",
    "num_validation_samples = int(validation_split * data.shape[0])\n",
    "x_train = data[:-num_validation_samples]\n",
    "y_train = labels[:-num_validation_samples]\n",
    "x_val = data[-num_validation_samples:]\n",
    "y_val = labels[-num_validation_samples:]"
   ]
  },
  {
   "cell_type": "code",
   "execution_count": 93,
   "metadata": {},
   "outputs": [
    {
     "name": "stdout",
     "output_type": "stream",
     "text": [
      "Train on 4126 samples, validate on 1031 samples\n",
      "Epoch 1/10\n",
      "4126/4126 [==============================] - 14s 3ms/step - loss: 0.3680 - acc: 0.8507 - val_loss: 0.2083 - val_acc: 0.9467\n",
      "Epoch 2/10\n",
      "4126/4126 [==============================] - 12s 3ms/step - loss: 0.1503 - acc: 0.9600 - val_loss: 0.0962 - val_acc: 0.9748\n",
      "Epoch 3/10\n",
      "4126/4126 [==============================] - 13s 3ms/step - loss: 0.0883 - acc: 0.9779 - val_loss: 0.0808 - val_acc: 0.9758\n",
      "Epoch 4/10\n",
      "4126/4126 [==============================] - 13s 3ms/step - loss: 0.0557 - acc: 0.9872 - val_loss: 0.0738 - val_acc: 0.9787\n",
      "Epoch 5/10\n",
      "4126/4126 [==============================] - 11s 3ms/step - loss: 0.0347 - acc: 0.9922 - val_loss: 0.9486 - val_acc: 0.4937\n",
      "Epoch 6/10\n",
      "4126/4126 [==============================] - 12s 3ms/step - loss: 0.0772 - acc: 0.9702 - val_loss: 0.0766 - val_acc: 0.9719\n",
      "Epoch 7/10\n",
      "4126/4126 [==============================] - 11s 3ms/step - loss: 0.0212 - acc: 0.9952 - val_loss: 0.0737 - val_acc: 0.9796\n",
      "Epoch 8/10\n",
      "4126/4126 [==============================] - 11s 3ms/step - loss: 0.0282 - acc: 0.9896 - val_loss: 0.0716 - val_acc: 0.9796\n",
      "Epoch 9/10\n",
      "4126/4126 [==============================] - 12s 3ms/step - loss: 0.0106 - acc: 0.9978 - val_loss: 0.0847 - val_acc: 0.9748\n",
      "Epoch 10/10\n",
      "4126/4126 [==============================] - 11s 3ms/step - loss: 0.0074 - acc: 0.9990 - val_loss: 0.0833 - val_acc: 0.9806\n"
     ]
    }
   ],
   "source": [
    "# build the model RNN LSTM\n",
    "model = Sequential()\n",
    "model.add(Embedding(len(word_index) + 1, 32, input_length=max_sequence_length))\n",
    "model.add(SimpleRNN(32, return_sequences=True))\n",
    "model.add(Bidirectional(LSTM(32)))\n",
    "model.add(Dense(1, activation='sigmoid'))\n",
    "model.compile(optimizer='rmsprop', loss='binary_crossentropy', metrics=['acc'])\n",
    "\n",
    "# train the model\n",
    "history = model.fit(x_train, y_train, epochs=10, batch_size=128, validation_data=(x_val, y_val))"
   ]
  },
  {
   "cell_type": "code",
   "execution_count": 95,
   "metadata": {},
   "outputs": [],
   "source": [
    "from sklearn.model_selection import train_test_split\n",
    "test_size = 0.2\n",
    "x_train, x_val, y_train, y_val = train_test_split(data, labels, test_size=test_size, random_state=42)"
   ]
  },
  {
   "cell_type": "code",
   "execution_count": 96,
   "metadata": {},
   "outputs": [],
   "source": [
    "# define a function to predict the category of a mail\n",
    "def predict_category():\n",
    "    # get the mail contents from the text box\n",
    "    mail_contents = mail_text_box.get('1.0', tk.END)\n",
    "    \n",
    "    # preprocess the mail text\n",
    "    mail_sequence = tokenizer.texts_to_sequences([mail_contents])\n",
    "    mail_sequence_padded = pad_sequences(mail_sequence, maxlen=max_sequence_length)\n",
    "    \n",
    "    # predict the category of the mail\n",
    "    score = model.predict(mail_sequence_padded)\n",
    "    if score > 0.5:\n",
    "        result_label.config(text='SPAM')\n",
    "    else:\n",
    "        result_label.config(text='NOT SPAM')"
   ]
  },
  {
   "cell_type": "code",
   "execution_count": 97,
   "metadata": {},
   "outputs": [],
   "source": [
    "# define a function to generate a sample legitimate email\n",
    "def generate_legitimate_email():\n",
    "    # get a random index for a legitimate email\n",
    "    index = np.random.choice(np.where(labels == 0)[0])\n",
    "    \n",
    "    # get the contents of the email\n",
    "    mail_contents = df.loc[index, 'Message']\n",
    "    \n",
    "    # display the contents of the email in the text box\n",
    "    mail_text_box.delete('1.0', tk.END)\n",
    "    mail_text_box.insert(tk.END, mail_contents)"
   ]
  },
  {
   "cell_type": "code",
   "execution_count": 98,
   "metadata": {},
   "outputs": [],
   "source": [
    "# define a function to generate a sample spam email\n",
    "def generate_spam_email():\n",
    "    # get a random index for a spam email\n",
    "    index = np.random.choice(np.where(labels == 1)[0])\n",
    "    \n",
    "    # get the contents of the email\n",
    "    mail_contents = df.loc[index, 'Message']\n",
    "    \n",
    "    # display the contents of the email in the text box\n",
    "    mail_text_box.delete('1.0', tk.END)\n",
    "    mail_text_box.insert(tk.END, mail_contents)"
   ]
  },
  {
   "cell_type": "code",
   "execution_count": 99,
   "metadata": {},
   "outputs": [],
   "source": [
    "# define a function to reset the GUI\n",
    "def reset_gui():\n",
    "    mail_text_box.delete('1.0', tk.END)\n",
    "    result_label.config(text='')"
   ]
  },
  {
   "cell_type": "code",
   "execution_count": 100,
   "metadata": {},
   "outputs": [
    {
     "data": {
      "image/png": "[encoded data removed]",
      "text/plain": [
       "<Figure size 720x288 with 2 Axes>"
      ]
     },
     "metadata": {
      "needs_background": "light"
     },
     "output_type": "display_data"
    }
   ],
   "source": [
    "# plot the training and validation accuracy and loss\n",
    "acc = history.history['acc']\n",
    "val_acc = history.history['val_acc']\n",
    "loss = history.history['loss']\n",
    "val_loss = history.history['val_loss']\n",
    "epochs = range(1, len(acc) + 1)\n",
    "\n",
    "plt.figure(figsize=(10, 4))\n",
    "plt.subplot(1, 2, 1)\n",
    "plt.plot(epochs, acc, 'bo', label='Training acc')\n",
    "plt.plot(epochs, val_acc, 'b', label='Validation acc')\n",
    "plt.title('Training and validation accuracy')\n",
    "plt.legend()\n",
    "\n",
    "plt.subplot(1, 2, 2)\n",
    "plt.plot(epochs, loss, 'bo', label='Training loss')\n",
    "plt.plot(epochs, val_loss, 'b', label='Validation loss')\n",
    "plt.title('Training and validation loss')\n",
    "plt.legend()\n",
    "plt.show()"
   ]
  },
  {
   "cell_type": "code",
   "execution_count": null,
   "metadata": {},
   "outputs": [
    {
     "name": "stderr",
     "output_type": "stream",
     "text": [
      "Exception in Tkinter callback\n",
      "Traceback (most recent call last):\n",
      "  File \"C:\\Users\\richa\\anaconda3\\lib\\site-packages\\pandas\\core\\indexes\\base.py\", line 2646, in get_loc\n",
      "    return self._engine.get_loc(key)\n",
      "  File \"pandas\\_libs\\index.pyx\", line 111, in pandas._libs.index.IndexEngine.get_loc\n",
      "  File \"pandas\\_libs\\index.pyx\", line 138, in pandas._libs.index.IndexEngine.get_loc\n",
      "  File \"pandas\\_libs\\hashtable_class_helper.pxi\", line 997, in pandas._libs.hashtable.Int64HashTable.get_item\n",
      "  File \"pandas\\_libs\\hashtable_class_helper.pxi\", line 1004, in pandas._libs.hashtable.Int64HashTable.get_item\n",
      "KeyError: 1152\n",
      "\n",
      "During handling of the above exception, another exception occurred:\n",
      "\n",
      "Traceback (most recent call last):\n",
      "  File \"C:\\Users\\richa\\anaconda3\\lib\\tkinter\\__init__.py\", line 1705, in __call__\n",
      "    return self.func(*args)\n",
      "  File \"<ipython-input-97-1e282a9c5b22>\", line 7, in generate_legitimate_email\n",
      "    mail_contents = df.loc[index, 'Message']\n",
      "  File \"C:\\Users\\richa\\anaconda3\\lib\\site-packages\\pandas\\core\\indexing.py\", line 1761, in __getitem__\n",
      "    return self._getitem_tuple(key)\n",
      "  File \"C:\\Users\\richa\\anaconda3\\lib\\site-packages\\pandas\\core\\indexing.py\", line 1271, in _getitem_tuple\n",
      "    return self._getitem_lowerdim(tup)\n",
      "  File \"C:\\Users\\richa\\anaconda3\\lib\\site-packages\\pandas\\core\\indexing.py\", line 1388, in _getitem_lowerdim\n",
      "    section = self._getitem_axis(key, axis=i)\n",
      "  File \"C:\\Users\\richa\\anaconda3\\lib\\site-packages\\pandas\\core\\indexing.py\", line 1964, in _getitem_axis\n",
      "    return self._get_label(key, axis=axis)\n",
      "  File \"C:\\Users\\richa\\anaconda3\\lib\\site-packages\\pandas\\core\\indexing.py\", line 624, in _get_label\n",
      "    return self.obj._xs(label, axis=axis)\n",
      "  File \"C:\\Users\\richa\\anaconda3\\lib\\site-packages\\pandas\\core\\generic.py\", line 3537, in xs\n",
      "    loc = self.index.get_loc(key)\n",
      "  File \"C:\\Users\\richa\\anaconda3\\lib\\site-packages\\pandas\\core\\indexes\\base.py\", line 2648, in get_loc\n",
      "    return self._engine.get_loc(self._maybe_cast_indexer(key))\n",
      "  File \"pandas\\_libs\\index.pyx\", line 111, in pandas._libs.index.IndexEngine.get_loc\n",
      "  File \"pandas\\_libs\\index.pyx\", line 138, in pandas._libs.index.IndexEngine.get_loc\n",
      "  File \"pandas\\_libs\\hashtable_class_helper.pxi\", line 997, in pandas._libs.hashtable.Int64HashTable.get_item\n",
      "  File \"pandas\\_libs\\hashtable_class_helper.pxi\", line 1004, in pandas._libs.hashtable.Int64HashTable.get_item\n",
      "KeyError: 1152\n"
     ]
    }
   ],
   "source": [
    "# create the GUI\n",
    "root = tk.Tk()\n",
    "root.title('Spam Classifier')\n",
    "root.geometry('800x600')\n",
    "\n",
    "# create the mail text box\n",
    "mail_text_box = tk.Text(root, font=('Helvetica', 12), height=10)\n",
    "mail_text_box.pack(padx=15, pady=15, fill=tk.BOTH, expand=True)\n",
    "\n",
    "# create the predict button\n",
    "predict_button = tk.Button(root, text='Predict', command=predict_category)\n",
    "predict_button.pack(pady=10)\n",
    "\n",
    "# create the result label\n",
    "result_label = tk.Label(root, text='', font=('Helvetica', 20))\n",
    "result_label.pack(pady=10)\n",
    "\n",
    "# create the generate buttons\n",
    "generate_legitimate_button = tk.Button(root, text='Generate Legitimate Email/URL', command=generate_legitimate_email)\n",
    "generate_legitimate_button.pack(pady=5)\n",
    "\n",
    "generate_spam_button = tk.Button(root, text='Generate Spam Email/URL', command=generate_spam_email)\n",
    "generate_spam_button.pack(pady=5)\n",
    "\n",
    "# create the reset button\n",
    "reset_button = tk.Button(root, text='Reset', command=reset_gui)\n",
    "reset_button.pack(pady=10)\n",
    "\n",
    "root.mainloop()"
   ]
  },
  {
   "cell_type": "code",
   "execution_count": null,
   "metadata": {},
   "outputs": [],
   "source": []
  }
 ],
 "metadata": {
  "kernelspec": {
   "display_name": "Python 3",
   "language": "python",
   "name": "python3"
  },
  "language_info": {
   "codemirror_mode": {
    "name": "ipython",
    "version": 3
   },
   "file_extension": ".py",
   "mimetype": "text/x-python",
   "name": "python",
   "nbconvert_exporter": "python",
   "pygments_lexer": "ipython3",
   "version": "3.7.6"
  }
 },
 "nbformat": 4,
 "nbformat_minor": 4
}
