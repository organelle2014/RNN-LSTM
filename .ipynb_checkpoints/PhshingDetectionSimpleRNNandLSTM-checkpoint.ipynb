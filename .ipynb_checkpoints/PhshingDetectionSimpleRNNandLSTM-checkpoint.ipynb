{
 "cells": [
  {
   "cell_type": "code",
   "execution_count": 12,
   "metadata": {},
   "outputs": [],
   "source": [
    "import tkinter as tk\n",
    "from tkinter import filedialog\n",
    "import pandas as pd\n",
    "import numpy as np\n",
    "import matplotlib.pyplot as plt"
   ]
  },
  {
   "cell_type": "code",
   "execution_count": null,
   "metadata": {},
   "outputs": [],
   "source": [
    "from keras.models import Sequential\n",
    "from keras.layers import Dense, Embedding, LSTM, SimpleRNN, Bidirectional\n",
    "from keras.preprocessing.text import Tokenizer\n",
    "from keras.preprocessing.sequence import pad_sequences"
   ]
  },
  {
   "cell_type": "code",
   "execution_count": 13,
   "metadata": {},
   "outputs": [],
   "source": [
    "# load the data\n",
    "df = pd.read_csv(\"data/spam.csv\")\n",
    "\n",
    "# remove any rows with null values\n",
    "df.dropna(inplace=True)\n",
    "\n",
    "# remove any duplicate rows\n",
    "df.drop_duplicates(inplace=True)\n",
    "\n",
    "# convert all text to lowercase\n",
    "df['Message'] = df['Message'].str.lower()\n",
    "\n",
    "# remove any leading or trailing whitespaces\n",
    "df['Message'] = df['Message'].str.strip()"
   ]
  },
  {
   "cell_type": "code",
   "execution_count": 14,
   "metadata": {},
   "outputs": [],
   "source": [
    "# preprocess the text data\n",
    "tokenizer = Tokenizer()\n",
    "tokenizer.fit_on_texts(df['Message'])\n",
    "sequences = tokenizer.texts_to_sequences(df['Message'])\n",
    "word_index = tokenizer.word_index\n",
    "max_sequence_length = max([len(seq) for seq in sequences])\n",
    "data = pad_sequences(sequences, maxlen=max_sequence_length)"
   ]
  },
  {
   "cell_type": "code",
   "execution_count": 15,
   "metadata": {},
   "outputs": [],
   "source": [
    "# create labels\n",
    "labels = np.where(df['Category']=='spam', 1, 0)"
   ]
  },
  {
   "cell_type": "code",
   "execution_count": 16,
   "metadata": {},
   "outputs": [],
   "source": [
    "# split the data into training and validation sets\n",
    "validation_split = 0.2\n",
    "indices = np.arange(data.shape[0])\n",
    "np.random.shuffle(indices)\n",
    "data = data[indices]\n",
    "labels = labels[indices]\n",
    "num_validation_samples = int(validation_split * data.shape[0])\n",
    "x_train = data[:-num_validation_samples]\n",
    "y_train = labels[:-num_validation_samples]\n",
    "x_val = data[-num_validation_samples:]\n",
    "y_val = labels[-num_validation_samples:]"
   ]
  },
  {
   "cell_type": "code",
   "execution_count": 17,
   "metadata": {},
   "outputs": [
    {
     "name": "stdout",
     "output_type": "stream",
     "text": [
      "Train on 4126 samples, validate on 1031 samples\n",
      "Epoch 1/10\n",
      "4126/4126 [==============================] - 9s 2ms/step - loss: 0.2670 - acc: 0.9142 - val_loss: 0.1195 - val_acc: 0.9777\n",
      "Epoch 2/10\n",
      "4126/4126 [==============================] - 8s 2ms/step - loss: 0.0913 - acc: 0.9782 - val_loss: 0.0806 - val_acc: 0.9825\n",
      "Epoch 3/10\n",
      "4126/4126 [==============================] - 8s 2ms/step - loss: 0.1153 - acc: 0.9593 - val_loss: 0.0784 - val_acc: 0.9816\n",
      "Epoch 4/10\n",
      "4126/4126 [==============================] - 8s 2ms/step - loss: 0.0467 - acc: 0.9886 - val_loss: 0.0525 - val_acc: 0.9835\n",
      "Epoch 5/10\n",
      "4126/4126 [==============================] - 8s 2ms/step - loss: 0.0239 - acc: 0.9942 - val_loss: 0.0507 - val_acc: 0.9835\n",
      "Epoch 6/10\n",
      "4126/4126 [==============================] - 10s 2ms/step - loss: 0.0189 - acc: 0.9944 - val_loss: 0.0582 - val_acc: 0.9835\n",
      "Epoch 7/10\n",
      "4126/4126 [==============================] - 10s 2ms/step - loss: 0.0075 - acc: 0.9985 - val_loss: 0.0767 - val_acc: 0.9845\n",
      "Epoch 8/10\n",
      "4126/4126 [==============================] - 9s 2ms/step - loss: 0.0067 - acc: 0.9983 - val_loss: 0.0688 - val_acc: 0.9845\n",
      "Epoch 9/10\n",
      "4126/4126 [==============================] - 8s 2ms/step - loss: 0.0034 - acc: 0.9993 - val_loss: 0.0846 - val_acc: 0.9835\n",
      "Epoch 10/10\n",
      "4126/4126 [==============================] - 8s 2ms/step - loss: 0.0184 - acc: 0.9935 - val_loss: 0.1017 - val_acc: 0.9796\n"
     ]
    }
   ],
   "source": [
    "# build the model\n",
    "model = Sequential()\n",
    "model.add(Embedding(len(word_index) + 1, 32, input_length=max_sequence_length))\n",
    "model.add(SimpleRNN(32, return_sequences=True))\n",
    "model.add(Bidirectional(LSTM(32)))\n",
    "model.add(Dense(1, activation='sigmoid'))\n",
    "model.compile(optimizer='rmsprop', loss='binary_crossentropy', metrics=['acc'])\n",
    "\n",
    "# train the model\n",
    "history = model.fit(x_train, y_train, epochs=10, batch_size=128, validation_data=(x_val, y_val))"
   ]
  },
  {
   "cell_type": "code",
   "execution_count": 29,
   "metadata": {},
   "outputs": [],
   "source": [
    "# define a function to predict the category of a mail\n",
    "def predict_category():\n",
    "    # get the mail contents from the text box\n",
    "    mail_contents = mail_text_box.get('1.0', tk.END)\n",
    "    \n",
    "    # preprocess the mail text\n",
    "    mail_sequence = tokenizer.texts_to_sequences([mail_contents])\n",
    "    mail_sequence_padded = pad_sequences(mail_sequence, maxlen=max_sequence_length)\n",
    "    \n",
    "    # predict the category of the mail\n",
    "    score = model.predict(mail_sequence_padded)\n",
    "    if score > 0.5:\n",
    "        result_label.config(text='SPAM')\n",
    "    else:\n",
    "        result_label.config(text='NOT SPAM')"
   ]
  },
  {
   "cell_type": "code",
   "execution_count": 30,
   "metadata": {},
   "outputs": [],
   "source": [
    "# define a function to generate a sample legitimate email\n",
    "def generate_legitimate_email():\n",
    "    # get a random index for a legitimate email\n",
    "    index = np.random.choice(np.where(labels == 0)[0])\n",
    "    \n",
    "    # get the contents of the email\n",
    "    mail_contents = df.loc[index, 'Message']\n",
    "    \n",
    "    # display the contents of the email in the text box\n",
    "    mail_text_box.delete('1.0', tk.END)\n",
    "    mail_text_box.insert(tk.END, mail_contents)"
   ]
  },
  {
   "cell_type": "code",
   "execution_count": 31,
   "metadata": {},
   "outputs": [],
   "source": [
    "# define a function to generate a sample spam email\n",
    "def generate_spam_email():\n",
    "    # get a random index for a spam email\n",
    "    index = np.random.choice(np.where(labels == 1)[0])\n",
    "    \n",
    "    # get the contents of the email\n",
    "    mail_contents = df.loc[index, 'Message']\n",
    "    \n",
    "    # display the contents of the email in the text box\n",
    "    mail_text_box.delete('1.0', tk.END)\n",
    "    mail_text_box.insert(tk.END, mail_contents)"
   ]
  },
  {
   "cell_type": "code",
   "execution_count": null,
   "metadata": {},
   "outputs": [],
   "source": [
    "# define a function to reset the GUI\n",
    "def reset_gui():\n",
    "    mail_text_box.delete('1.0', tk.END)\n",
    "    result_label.config(text='')"
   ]
  },
  {
   "cell_type": "code",
   "execution_count": 52,
   "metadata": {},
   "outputs": [
    {
     "data": {
      "image/png": "[encoded data removed]",
      "text/plain": [
       "<Figure size 720x288 with 2 Axes>"
      ]
     },
     "metadata": {
      "needs_background": "light"
     },
     "output_type": "display_data"
    }
   ],
   "source": [
    "# plot the training and validation accuracy and loss\n",
    "acc = history.history['acc']\n",
    "val_acc = history.history['val_acc']\n",
    "loss = history.history['loss']\n",
    "val_loss = history.history['val_loss']\n",
    "epochs = range(1, len(acc) + 1)\n",
    "\n",
    "plt.figure(figsize=(10, 4))\n",
    "plt.subplot(1, 2, 1)\n",
    "plt.plot(epochs, acc, 'bo', label='Training acc')\n",
    "plt.plot(epochs, val_acc, 'b', label='Validation acc')\n",
    "plt.title('Training and validation accuracy')\n",
    "plt.legend()\n",
    "\n",
    "plt.subplot(1, 2, 2)\n",
    "plt.plot(epochs, loss, 'bo', label='Training loss')\n",
    "plt.plot(epochs, val_loss, 'b', label='Validation loss')\n",
    "plt.title('Training and validation loss')\n",
    "plt.legend()\n",
    "plt.show()"
   ]
  },
  {
   "cell_type": "code",
   "execution_count": 62,
   "metadata": {},
   "outputs": [],
   "source": [
    "# create the GUI\n",
    "root = tk.Tk()\n",
    "root.title('Spam Classifier')\n",
    "root.geometry('800x600')\n",
    "\n",
    "# create the mail text box\n",
    "mail_text_box = tk.Text(root, font=('Helvetica', 12), height=10)\n",
    "mail_text_box.pack(padx=15, pady=15, fill=tk.BOTH, expand=True)\n",
    "\n",
    "# create the predict button\n",
    "predict_button = tk.Button(root, text='Predict', command=predict_category)\n",
    "predict_button.pack(pady=10)\n",
    "\n",
    "# create the result label\n",
    "result_label = tk.Label(root, text='', font=('Helvetica', 20))\n",
    "result_label.pack(pady=10)\n",
    "\n",
    "# create the generate buttons\n",
    "generate_legitimate_button = tk.Button(root, text='Generate Legitimate Email/URL', command=generate_legitimate_email)\n",
    "generate_legitimate_button.pack(pady=5)\n",
    "\n",
    "generate_spam_button = tk.Button(root, text='Generate Spam Email/URL', command=generate_spam_email)\n",
    "generate_spam_button.pack(pady=5)\n",
    "\n",
    "# create the reset button\n",
    "reset_button = tk.Button(root, text='Reset', command=reset_gui)\n",
    "reset_button.pack(pady=10)\n",
    "\n",
    "root.mainloop()"
   ]
  },
  {
   "cell_type": "code",
   "execution_count": null,
   "metadata": {},
   "outputs": [],
   "source": []
  }
 ],
 "metadata": {
  "kernelspec": {
   "display_name": "Python 3",
   "language": "python",
   "name": "python3"
  },
  "language_info": {
   "codemirror_mode": {
    "name": "ipython",
    "version": 3
   },
   "file_extension": ".py",
   "mimetype": "text/x-python",
   "name": "python",
   "nbconvert_exporter": "python",
   "pygments_lexer": "ipython3",
   "version": "3.7.6"
  }
 },
 "nbformat": 4,
 "nbformat_minor": 4
}
